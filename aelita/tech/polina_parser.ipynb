{
 "cells": [
  {
   "cell_type": "code",
   "source": [
    "from urllib.parse import urlparse, urldefrag, urljoin\n",
    "from urllib.request import urlopen\n",
    "from bs4 import BeautifulSoup\n",
    "from queue import Queue\n",
    "import time as time"
   ],
   "metadata": {
    "id": "cAJYpbJeJiFa"
   },
   "execution_count": 4,
   "outputs": []
  },
  {
   "cell_type": "code",
   "source": [
    "!pip install url_normalize"
   ],
   "metadata": {
    "colab": {
     "base_uri": "https://localhost:8080/"
    },
    "id": "2b6tEh_PMiY-",
    "outputId": "2d207e01-69de-42c2-8dc5-a44bf6254f4a"
   },
   "execution_count": 5,
   "outputs": [
    {
     "name": "stdout",
     "output_type": "stream",
     "text": [
      "Requirement already satisfied: url_normalize in /home/artemy/.local/lib/python3.8/site-packages (1.4.3)\r\n",
      "Requirement already satisfied: six in /usr/lib/python3/dist-packages (from url_normalize) (1.14.0)\r\n"
     ]
    }
   ]
  },
  {
   "cell_type": "code",
   "source": [
    "from url_normalize import url_normalize\n",
    "\n",
    "import pandas as pd\n",
    "import seaborn as sns\n",
    "import matplotlib.pyplot as plt\n",
    "\n",
    "# from google.colab import files"
   ],
   "metadata": {
    "id": "KCTYACNwMpvS"
   },
   "execution_count": 6,
   "outputs": []
  },
  {
   "cell_type": "code",
   "execution_count": 41,
   "outputs": [],
   "source": [
    "our_url = 'https://ailita-shop.ru/catalog/semena/semena_ovoshchey/perets/perets'\n",
    "\n",
    "columns = ['Название', 'Срок созревания', 'Толщина стенки', 'Высота растения', 'Высота']\n",
    "link_0 = \"https://ailita-shop.ru/catalog/semena/semena_ovoshchey/perets/\"\n",
    "link_page = 'https://ailita-shop.ru/catalog/semena/semena_ovoshchey/perets?PAGEN_1='\n",
    "plant_name = 'perets'\n",
    "NUM_PAGES = 6"
   ],
   "metadata": {
    "collapsed": false
   }
  },
  {
   "cell_type": "code",
   "execution_count": 8,
   "metadata": {
    "id": "GOocZCZf0rWo"
   },
   "outputs": [],
   "source": [
    "def download_from_the_internet(url):\n",
    "    '''Скачивает сраницу с интернета\n",
    "\n",
    "    Параметры:\n",
    "        url (str) - ссылка на страницу для скачивания\n",
    "\n",
    "    Возвращает:\n",
    "        str - html-страница в виде строки, None в случае неудачи\n",
    "    '''\n",
    "    try:\n",
    "        return urlopen(url).read().decode('utf-8')\n",
    "    except KeyboardInterrupt:\n",
    "        raise\n",
    "    except:\n",
    "        return None\n",
    "\n",
    "    \n",
    "def extract_links_from_html(url, html):\n",
    "    '''Парсит ссылки на странице\n",
    "\n",
    "    Принимает:\n",
    "        url (str) - исходный урл страницы\n",
    "        html (str) - содержание html-страницы\n",
    "\n",
    "    Возвращает:\n",
    "        list - список ссылок, находящихся на странице\n",
    "    '''\n",
    "    parser = BeautifulSoup(html)\n",
    "    # Формируем ссылки на те страницы, на которые ссылается документ\n",
    "    return [urljoin(url, link.get('href')) for link in parser.findAll('a')]\n",
    "\n",
    "\n",
    "def extract_text_info_from_html(html):\n",
    "    '''Парсит текстовую информацию на странице\n",
    "\n",
    "    Принимает:\n",
    "         html (str) - содержание html-страницы\n",
    "\n",
    "    Возвращает:\n",
    "        dict - текстовая часть страницы по ключу text,\n",
    "               название по ключу title\n",
    "    '''\n",
    "    soup = BeautifulSoup(html, features=\"html.parser\")\n",
    "    for script in soup([\"script\", \"style\"]):\n",
    "        script.extract()\n",
    "    \n",
    "    # Объединяем строки текста\n",
    "    text = soup.get_text()\n",
    "    lines = (line.strip() for line in text.splitlines())\n",
    "    chunks = (phrase.strip() for line in lines for phrase in line.split(\"  \"))\n",
    "    text = '\\n'.join(chunk for chunk in chunks if chunk)\n",
    "\n",
    "    # Находим название на странице\n",
    "    title = soup.find('title').string\n",
    "    \n",
    "    return {'text': text, 'title': title}\n",
    "\n",
    "def load_web_pages(seed, max_downloads, filtration_function):\n",
    "    '''Обходит web-страницы в ширину и загружает информацию о них.\n",
    "    \n",
    "    Принимает:\n",
    "        seed (str) -- страница, с которой начинать обход.\n",
    "        max_downloads (int) -- максимальное число загруженных страниц.\n",
    "        filtration_function (str -> bool) -- функция, указывающая, \n",
    "            стоит ли загружать страницу. Пример: is_wiki_article.\n",
    "            \n",
    "    Возвращает:\n",
    "        pages_json (list) - список словарей с информацией о страницах.\n",
    "    '''\n",
    "    \n",
    "    # Создаём список со страницами\n",
    "    pages_json = []\n",
    "    \n",
    "    # Создаём очередь для обхода в ширину\n",
    "    q = Queue()\n",
    "    q.put(seed)\n",
    "\n",
    "    already_visited = set()\n",
    "    n_downloads = 0\n",
    "    time_start = time.time()\n",
    "\n",
    "    while not q.empty():\n",
    "        # Нормализуем урл\n",
    "        main_url = url_normalize(q.get())\n",
    "        if main_url in already_visited:\n",
    "            continue\n",
    "        already_visited.add(main_url)\n",
    "        html = download_from_the_internet(main_url)\n",
    "\n",
    "        # Извлекаем ссылки из страницы\n",
    "        if not(html is None):\n",
    "            children_links = extract_links_from_html(main_url, html)\n",
    "            time.sleep(1)\n",
    "\n",
    "            # Извлекаем текст страницы\n",
    "            text_info = extract_text_info_from_html(html) \n",
    "\n",
    "            # Добавляем запись в таблицу\n",
    "            text_info['url'] = main_url\n",
    "            pages_json.append(text_info)\n",
    "\n",
    "            n_downloads += 1\n",
    "            if n_downloads > max_downloads:\n",
    "                break\n",
    "\n",
    "            # Добавляем ещё не посещённые ссылки в очередь\n",
    "            for child in children_links:\n",
    "                if url_normalize(child) not in already_visited \\\n",
    "                and filtration_function(child):\n",
    "                    q.put(child)\n",
    "                \n",
    "    return pages_json\n",
    "\n",
    "\n",
    "def is_article(url, checked):\n",
    "    '''Проверяет, является ли ссылка страницей на simple.wikipedia'''\n",
    "    if (checked in url):\n",
    "        return True\n",
    "    return False"
   ]
  },
  {
   "cell_type": "code",
   "execution_count": 9,
   "metadata": {
    "id": "YvzRUWNbEjPZ"
   },
   "outputs": [],
   "source": [
    "def check_integer(string):\n",
    "  return any(map(str.isdigit, string))"
   ]
  },
  {
   "cell_type": "code",
   "source": [
    "def delete_ptr(name):\n",
    "  '''clear name without , '''\n",
    "  while (',' in name):\n",
    "    name = name[ :name.find(',')]\n",
    "  return name"
   ],
   "metadata": {
    "id": "SaqYeGS7Yewa"
   },
   "execution_count": 10,
   "outputs": []
  },
  {
   "cell_type": "code",
   "source": [
    "def name_and_hybrid(text):\n",
    "  ''' returns name and bool - true if hybrid'''\n",
    "  name = ''\n",
    "  hybrid = False\n",
    "  description = text[: text.find('семена |')]\n",
    "\n",
    "  if 'F1' in description:\n",
    "    hybrid = True\n",
    "    name = description[ :description.find('F1') - 1]\n",
    "    delete_ptr(name)\n",
    "    return name, hybrid\n",
    "  \n",
    "  if 'шт' in description:\n",
    "    last_index = description.find('шт')\n",
    "    while(description[last_index] != ' '):\n",
    "        last_index -=1\n",
    "    \n",
    "    name = description[ :last_index]\n",
    "    return delete_ptr(name), hybrid\n",
    "    \n",
    "\n",
    "  index = description.find('г,') - 1\n",
    "  if 'г,' in description and check_integer(description[index]):\n",
    "    while(description[index] != ' '):\n",
    "        index -=1\n",
    "    name = description[ :index]\n",
    "    return delete_ptr(name), hybrid\n",
    "  \n",
    "  return delete_ptr(name), hybrid"
   ],
   "metadata": {
    "id": "CYiNfgQrLfIz"
   },
   "execution_count": 11,
   "outputs": []
  },
  {
   "cell_type": "code",
   "source": [
    "def weight(text):\n",
    "  splited = text.split('\\n')\n",
    "  if 'Масса плода:' in splited:\n",
    "    weight = splited[splited.index('Масса плода:') + 1]\n",
    "    if not check_integer(weight) or len(weight) > 20:\n",
    "      weight = None\n",
    "\n",
    "    return weight"
   ],
   "metadata": {
    "id": "pvneGWGkQKKa"
   },
   "execution_count": 12,
   "outputs": []
  },
  {
   "cell_type": "code",
   "source": [
    "def ripening(text):\n",
    "  splited = text.split('\\n')\n",
    "  feature = 'Срок созревания:'\n",
    "  if feature in splited:\n",
    "    rippening = splited[splited.index(feature) + 1]\n",
    "    if not 'спел' in rippening:\n",
    "      rippening = None\n",
    "    return rippening"
   ],
   "metadata": {
    "id": "dEilG3FnSjyg"
   },
   "execution_count": 13,
   "outputs": []
  },
  {
   "cell_type": "code",
   "source": [
    "def ripening_days(text):\n",
    "  last_index = text.find(' дней')\n",
    "  if last_index == -1:\n",
    "    last_index = text.find(' дня')\n",
    "\n",
    "  if last_index == -1:\n",
    "    last_index = text.find(' день')\n",
    "\n",
    "  if last_index == -1:\n",
    "    last_index = text.find(' дн')\n",
    "\n",
    "  days = ''\n",
    "  if last_index != -1:\n",
    "    substr = text[:last_index]\n",
    "    first_index = last_index - 1\n",
    "    while substr[first_index] != ' ':\n",
    "      first_index -=1\n",
    "    days = substr[first_index + 1: last_index]\n",
    "  else:\n",
    "    days = None\n",
    "  \n",
    "  if check_integer(days):\n",
    "    return days\n",
    "  else:\n",
    "    return None"
   ],
   "metadata": {
    "id": "uZLihTV_UJ6D"
   },
   "execution_count": 14,
   "outputs": []
  },
  {
   "cell_type": "code",
   "source": [
    "def determ(text):\n",
    "  splited = text.split('\\n')\n",
    "  feature = 'Тип роста:'\n",
    "  if feature in splited:\n",
    "    rippening = splited[splited.index(feature) + 1]\n",
    "    if not 'детерминант' in rippening.lower():\n",
    "      rippening = None\n",
    "    return rippening"
   ],
   "metadata": {
    "id": "W48W5-6bUUD3"
   },
   "execution_count": 15,
   "outputs": []
  },
  {
   "cell_type": "code",
   "source": [
    "def height(text):\n",
    "  splited = text.split('\\n')\n",
    "  feature = 'Высота:'\n",
    "  if feature in splited:\n",
    "    height_v = splited[splited.index(feature) + 1]\n",
    "    if not check_integer(height_v) or len(height_v) > 20:\n",
    "      height_v = None\n",
    "    return height_v"
   ],
   "metadata": {
    "id": "C2M_qb7-U7E-"
   },
   "execution_count": 16,
   "outputs": []
  },
  {
   "cell_type": "code",
   "execution_count": 17,
   "outputs": [],
   "source": [
    "def form(text):\n",
    "    splitted = text.split('\\n')\n",
    "    feature = 'Форма растения:'\n",
    "    form = None\n",
    "    if feature in splitted:\n",
    "        form = splitted[splitted.index(feature) + 1]\n",
    "        if len(form) > 100:\n",
    "            form = None\n",
    "    return form"
   ],
   "metadata": {
    "collapsed": false
   }
  },
  {
   "cell_type": "code",
   "execution_count": 18,
   "outputs": [],
   "source": [
    "def type_of_kabachok(text):\n",
    "    splitted = text.split('\\n')\n",
    "    feature = 'Вид кабачка:'\n",
    "    type = None\n",
    "    if feature in splitted:\n",
    "        type = splitted[splitted.index(feature) + 1]\n",
    "        if len(type) > 100:\n",
    "            type = None\n",
    "    return type"
   ],
   "metadata": {
    "collapsed": false
   }
  },
  {
   "cell_type": "code",
   "execution_count": 19,
   "outputs": [],
   "source": [
    "def color(text):\n",
    "    splitted = text.split('\\n')\n",
    "    feature = 'Цвет кабачка:'\n",
    "    color = None\n",
    "    if feature in splitted:\n",
    "        color = splitted[splitted.index(feature) + 1]\n",
    "        if len(color) > 100:\n",
    "            color = None\n",
    "    return color"
   ],
   "metadata": {
    "collapsed": false
   }
  },
  {
   "cell_type": "code",
   "execution_count": 30,
   "outputs": [],
   "source": [
    "def parse_feature(text, feature):\n",
    "    splitted = text.split('\\n')\n",
    "    extracted = None\n",
    "    feature_tech = feature + ':'\n",
    "    if feature_tech in splitted:\n",
    "        extracted = splitted[splitted.index(feature_tech) + 1]\n",
    "        if len(extracted) > 100:\n",
    "            extracted = None\n",
    "    return extracted"
   ],
   "metadata": {
    "collapsed": false
   }
  },
  {
   "cell_type": "code",
   "source": [
    "def clear_parser(aelita_df, columns, checked_url):\n",
    "  seeds_df = pd.DataFrame(columns = columns)\n",
    "  for description, url in zip(aelita_df['text'], aelita_df['url']):\n",
    "    if checked_url not in url:\n",
    "      continue\n",
    "    \n",
    "    name, hybrid = name_and_hybrid(description)\n",
    "    row = pd.DataFrame([[\n",
    "        name,\n",
    "        *[parse_feature(description, feature) for feature in columns[1:]]\n",
    "    ]], columns = columns)\n",
    "    seeds_df = pd.concat([seeds_df, row], axis = 0,ignore_index=True)\n",
    "  \n",
    "  return seeds_df"
   ],
   "metadata": {
    "id": "mdzDs42mWE5y"
   },
   "execution_count": 31,
   "outputs": []
  },
  {
   "cell_type": "code",
   "execution_count": 32,
   "metadata": {
    "id": "n4IyNHEU1zD1"
   },
   "outputs": [],
   "source": [
    "def parse(columns, PAGES_SITE, clear_parser, link_0, link_page, plant_name):\n",
    "  seeds_df = pd.DataFrame(columns =columns)\n",
    "  aelita_df =  pd.DataFrame(columns =['text', 'title', 'url'])\n",
    "  for i in range(PAGES_SITE):\n",
    "    SEED = ''\n",
    "    if i == 0:\n",
    "      SEED = link_0\n",
    "    else:\n",
    "      SEED = link_page + str(i + 1)\n",
    "\n",
    "    pages_number = 30\n",
    "    json_data = load_web_pages(SEED, pages_number, lambda x: is_article(x, our_url))\n",
    "    aelita_df = pd.concat([pd.DataFrame(json_data), aelita_df], axis = 0,ignore_index=True)\n",
    "    seeds_df = pd.concat([clear_parser(pd.DataFrame(json_data), columns, our_url).drop_duplicates(), seeds_df], axis = 0,ignore_index=True)\n",
    "  \n",
    "  \n",
    "    aelita_df.to_csv(f'text_{plant_name}_aelita.csv')\n",
    "  # files.download('text_tomato_aelita.csv')\n",
    "\n",
    "    seeds_df.to_csv(f'parsed_{plant_name}_aelita.csv')\n",
    "  # files.download('parsed_tomato_aelita.csv')"
   ]
  },
  {
   "cell_type": "code",
   "source": [
    "parse(columns, NUM_PAGES, clear_parser, link_0, link_page, plant_name)"
   ],
   "metadata": {
    "colab": {
     "base_uri": "https://localhost:8080/",
     "height": 17
    },
    "id": "NS-kFj68ceq-",
    "outputId": "8a026385-6334-4611-ea2b-53b2d751deee"
   },
   "execution_count": 42,
   "outputs": []
  },
  {
   "cell_type": "code",
   "execution_count": 43,
   "outputs": [
    {
     "data": {
      "text/plain": "                         Название Срок созревания Толщина стенки  \\\n0    Перец острый Медвежий коготь     Раннеспелый   Тонкостенный   \n1  Перец острый Китайский фонарик             NaN  Толстостенный   \n2        Перец сладкий Д'Артаньян     Раннеспелый   Тонкостенный   \n3             Перец острый Хвандо     Раннеспелый   Тонкостенный   \n4           Перец сладкий Паприка     Раннеспелый   Тонкостенный   \n\n  Высота растения      Высота  \n0    Среднерослое         NaN  \n1    Высокорослое  130-160 см  \n2    Среднерослое         NaN  \n3    Высокорослое  140-155 см  \n4    Среднерослое         NaN  ",
      "text/html": "<div>\n<style scoped>\n    .dataframe tbody tr th:only-of-type {\n        vertical-align: middle;\n    }\n\n    .dataframe tbody tr th {\n        vertical-align: top;\n    }\n\n    .dataframe thead th {\n        text-align: right;\n    }\n</style>\n<table border=\"1\" class=\"dataframe\">\n  <thead>\n    <tr style=\"text-align: right;\">\n      <th></th>\n      <th>Название</th>\n      <th>Срок созревания</th>\n      <th>Толщина стенки</th>\n      <th>Высота растения</th>\n      <th>Высота</th>\n    </tr>\n  </thead>\n  <tbody>\n    <tr>\n      <th>0</th>\n      <td>Перец острый Медвежий коготь</td>\n      <td>Раннеспелый</td>\n      <td>Тонкостенный</td>\n      <td>Среднерослое</td>\n      <td>NaN</td>\n    </tr>\n    <tr>\n      <th>1</th>\n      <td>Перец острый Китайский фонарик</td>\n      <td>NaN</td>\n      <td>Толстостенный</td>\n      <td>Высокорослое</td>\n      <td>130-160 см</td>\n    </tr>\n    <tr>\n      <th>2</th>\n      <td>Перец сладкий Д'Артаньян</td>\n      <td>Раннеспелый</td>\n      <td>Тонкостенный</td>\n      <td>Среднерослое</td>\n      <td>NaN</td>\n    </tr>\n    <tr>\n      <th>3</th>\n      <td>Перец острый Хвандо</td>\n      <td>Раннеспелый</td>\n      <td>Тонкостенный</td>\n      <td>Высокорослое</td>\n      <td>140-155 см</td>\n    </tr>\n    <tr>\n      <th>4</th>\n      <td>Перец сладкий Паприка</td>\n      <td>Раннеспелый</td>\n      <td>Тонкостенный</td>\n      <td>Среднерослое</td>\n      <td>NaN</td>\n    </tr>\n  </tbody>\n</table>\n</div>"
     },
     "execution_count": 43,
     "metadata": {},
     "output_type": "execute_result"
    }
   ],
   "source": [
    "df = pd.read_csv(f'parsed_{plant_name}_aelita.csv', index_col=[0])\n",
    "df.head()"
   ],
   "metadata": {
    "collapsed": false
   }
  },
  {
   "cell_type": "code",
   "source": [
    "def helper_word(text, feature, condition):\n",
    "  splited = text.split('\\n')\n",
    "  if feature in splited:\n",
    "    filling = splited[splited.index(feature) + 1]\n",
    "    if not condition in filling.lower():\n",
    "      filling = None\n",
    "    return filling"
   ],
   "metadata": {
    "id": "46HOTJHne3-W"
   },
   "execution_count": null,
   "outputs": []
  },
  {
   "cell_type": "code",
   "source": [
    "def helper_integer(text, feature, length):\n",
    "  splited = text.split('\\n')\n",
    "  if feature in splited:\n",
    "    filling = splited[splited.index(feature) + 1]\n",
    "    if not check_integer(filling) or len(filling) >= length:\n",
    "      filling = None\n",
    "    return filling"
   ],
   "metadata": {
    "id": "Udb_zNQrfYiJ"
   },
   "execution_count": null,
   "outputs": []
  },
  {
   "cell_type": "code",
   "source": [
    "aelita_df = pd.read_csv(f'text_{plant_name}_aelita.csv')\n",
    "aelita_df['text'] = aelita_df['0']\n",
    "aelita_df = aelita_df['text'] "
   ],
   "metadata": {
    "id": "QIdgC2HEBRDz"
   },
   "execution_count": null,
   "outputs": []
  },
  {
   "cell_type": "code",
   "source": [
    "text = aelita_df[290]\n",
    "\n",
    "name = ''\n",
    "hybrid = False\n",
    "description = text[: text.find('семена |')]\n",
    "\n",
    "if 'F1' in description:\n",
    "  hybrid = True\n",
    "  name = description[ :description.find('F1') - 1]\n",
    "  print('F1',delete_ptr(name), hybrid)\n",
    "\n",
    "if 'шт' in description:\n",
    "  last_index = description.find('шт')\n",
    "  while(description[last_index] != ' '):\n",
    "      last_index -=1\n",
    "  \n",
    "  name = description[ :last_index]\n",
    "  print('шт',delete_ptr(name), hybrid)\n",
    "  \n",
    "\n",
    "index = description.find('г,') - 1\n",
    "if 'г,' in description and check_integer(description[index]):\n",
    "  while(description[index] != ' '):\n",
    "      index -=1\n",
    "  name = description[ :index]\n",
    "  print('г',delete_ptr(name), hybrid)"
   ],
   "metadata": {
    "colab": {
     "base_uri": "https://localhost:8080/"
    },
    "id": "QozjxZV3EKUV",
    "outputId": "10b2760e-b126-4918-b888-7f8fd4b1553b"
   },
   "execution_count": null,
   "outputs": []
  },
  {
   "cell_type": "code",
   "source": [
    "name_and_hybrid(aelita_df[290])\n"
   ],
   "metadata": {
    "colab": {
     "base_uri": "https://localhost:8080/"
    },
    "id": "ngB1qGnvFbdk",
    "outputId": "4653de9f-770c-4ec7-c1c9-f36d6a757f07"
   },
   "execution_count": null,
   "outputs": []
  },
  {
   "cell_type": "code",
   "source": [
    "name\n",
    "delete_ptr(name), hybrid"
   ],
   "metadata": {
    "colab": {
     "base_uri": "https://localhost:8080/"
    },
    "id": "fBH4gWp4E4jL",
    "outputId": "62701901-c1c4-4304-a9c6-3dc1187ded1d"
   },
   "execution_count": null,
   "outputs": []
  },
  {
   "cell_type": "code",
   "execution_count": null,
   "outputs": [],
   "source": [
    "df = pd.read_csv(f'parsed_{plant_name}_aelita.csv', index_col=[0])\n",
    "df = df.drop(columns=['Unnamed: 0'])\n",
    "df = df.drop_duplicates()\n",
    "df.to_csv(f'parsed_{plant_name}_aelita.csv')"
   ],
   "metadata": {
    "collapsed": false
   }
  },
  {
   "cell_type": "code",
   "execution_count": null,
   "outputs": [],
   "source": [],
   "metadata": {
    "collapsed": false
   }
  }
 ],
 "metadata": {
  "colab": {
   "provenance": []
  },
  "kernelspec": {
   "display_name": "Python 3",
   "name": "python3"
  },
  "language_info": {
   "name": "python"
  }
 },
 "nbformat": 4,
 "nbformat_minor": 0
}

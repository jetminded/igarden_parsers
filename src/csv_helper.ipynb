{
 "cells": [
  {
   "cell_type": "code",
   "execution_count": 7,
   "metadata": {
    "collapsed": true,
    "ExecuteTime": {
     "start_time": "2023-04-10T00:34:05.214589Z",
     "end_time": "2023-04-10T00:34:05.238524Z"
    }
   },
   "outputs": [],
   "source": [
    "import numpy as np\n",
    "import pandas as pd\n",
    "import os"
   ]
  },
  {
   "cell_type": "code",
   "execution_count": 24,
   "outputs": [
    {
     "data": {
      "text/plain": "                         Название  Гибридность           Спелость   \n0    Томат Блю Питтс (Blue Pitts)        False        Раннеспелый  \\\n1            Томат Сладкая ягодка        False  Ультраскороспелый   \n2            Томат Малиновый смак         True        Раннеспелый   \n3                 Томат Хали-гали         True        Раннеспелый   \n4            Томат Сливка-великан        False        Раннеспелый   \n..                            ...          ...                ...   \n495         Томат Чарующий каскад        False  Ультраскороспелый   \n496         Томат Тамбовский волк         True       Среднеспелый   \n497          Томат Золотое сердце        False  Ультраскороспелый   \n498                   Томат Медок         True        Раннеспелый   \n499                 Томат Баламут         True  Ультраскороспелый   \n\n    Срок созревания, дн     Детерминантность       Высота      Масса плода  \n0                   NaN     Индетерминантный   150-180 см   От 50 до 100 г  \n1                 90-95  Супердетерминантный  около 30 см              NaN  \n2                95-100     Индетерминантный   180-200 см  От 150 до 250 г  \n3               105-112       Детерминантный    80-110 см  От 150 до 250 г  \n4               105-115       Детерминантный     70-80 см  От 100 до 150 г  \n..                  ...                  ...          ...              ...  \n495               80-85  Супердетерминантный          NaN              NaN  \n496             105-110     Индетерминантный          NaN  От 150 до 250 г  \n497               60-65       Детерминантный        60 см  От 100 до 150 г  \n498             106-111       Детерминантный   120-150 см    От 25 до 50 г  \n499              95-105       Детерминантный   120-150 см  От 100 до 150 г  \n\n[500 rows x 7 columns]",
      "text/html": "<div>\n<style scoped>\n    .dataframe tbody tr th:only-of-type {\n        vertical-align: middle;\n    }\n\n    .dataframe tbody tr th {\n        vertical-align: top;\n    }\n\n    .dataframe thead th {\n        text-align: right;\n    }\n</style>\n<table border=\"1\" class=\"dataframe\">\n  <thead>\n    <tr style=\"text-align: right;\">\n      <th></th>\n      <th>Название</th>\n      <th>Гибридность</th>\n      <th>Спелость</th>\n      <th>Срок созревания, дн</th>\n      <th>Детерминантность</th>\n      <th>Высота</th>\n      <th>Масса плода</th>\n    </tr>\n  </thead>\n  <tbody>\n    <tr>\n      <th>0</th>\n      <td>Томат Блю Питтс (Blue Pitts)</td>\n      <td>False</td>\n      <td>Раннеспелый</td>\n      <td>NaN</td>\n      <td>Индетерминантный</td>\n      <td>150-180 см</td>\n      <td>От 50 до 100 г</td>\n    </tr>\n    <tr>\n      <th>1</th>\n      <td>Томат Сладкая ягодка</td>\n      <td>False</td>\n      <td>Ультраскороспелый</td>\n      <td>90-95</td>\n      <td>Супердетерминантный</td>\n      <td>около 30 см</td>\n      <td>NaN</td>\n    </tr>\n    <tr>\n      <th>2</th>\n      <td>Томат Малиновый смак</td>\n      <td>True</td>\n      <td>Раннеспелый</td>\n      <td>95-100</td>\n      <td>Индетерминантный</td>\n      <td>180-200 см</td>\n      <td>От 150 до 250 г</td>\n    </tr>\n    <tr>\n      <th>3</th>\n      <td>Томат Хали-гали</td>\n      <td>True</td>\n      <td>Раннеспелый</td>\n      <td>105-112</td>\n      <td>Детерминантный</td>\n      <td>80-110 см</td>\n      <td>От 150 до 250 г</td>\n    </tr>\n    <tr>\n      <th>4</th>\n      <td>Томат Сливка-великан</td>\n      <td>False</td>\n      <td>Раннеспелый</td>\n      <td>105-115</td>\n      <td>Детерминантный</td>\n      <td>70-80 см</td>\n      <td>От 100 до 150 г</td>\n    </tr>\n    <tr>\n      <th>...</th>\n      <td>...</td>\n      <td>...</td>\n      <td>...</td>\n      <td>...</td>\n      <td>...</td>\n      <td>...</td>\n      <td>...</td>\n    </tr>\n    <tr>\n      <th>495</th>\n      <td>Томат Чарующий каскад</td>\n      <td>False</td>\n      <td>Ультраскороспелый</td>\n      <td>80-85</td>\n      <td>Супердетерминантный</td>\n      <td>NaN</td>\n      <td>NaN</td>\n    </tr>\n    <tr>\n      <th>496</th>\n      <td>Томат Тамбовский волк</td>\n      <td>True</td>\n      <td>Среднеспелый</td>\n      <td>105-110</td>\n      <td>Индетерминантный</td>\n      <td>NaN</td>\n      <td>От 150 до 250 г</td>\n    </tr>\n    <tr>\n      <th>497</th>\n      <td>Томат Золотое сердце</td>\n      <td>False</td>\n      <td>Ультраскороспелый</td>\n      <td>60-65</td>\n      <td>Детерминантный</td>\n      <td>60 см</td>\n      <td>От 100 до 150 г</td>\n    </tr>\n    <tr>\n      <th>498</th>\n      <td>Томат Медок</td>\n      <td>True</td>\n      <td>Раннеспелый</td>\n      <td>106-111</td>\n      <td>Детерминантный</td>\n      <td>120-150 см</td>\n      <td>От 25 до 50 г</td>\n    </tr>\n    <tr>\n      <th>499</th>\n      <td>Томат Баламут</td>\n      <td>True</td>\n      <td>Ультраскороспелый</td>\n      <td>95-105</td>\n      <td>Детерминантный</td>\n      <td>120-150 см</td>\n      <td>От 100 до 150 г</td>\n    </tr>\n  </tbody>\n</table>\n<p>500 rows × 7 columns</p>\n</div>"
     },
     "execution_count": 24,
     "metadata": {},
     "output_type": "execute_result"
    }
   ],
   "source": [
    "tomatoes = pd.read_csv(os.path.join('..', 'aelita', 'ready', 'parsed_tomato_aelita.csv'), index_col=0)\n",
    "tomatoes"
   ],
   "metadata": {
    "collapsed": false,
    "ExecuteTime": {
     "start_time": "2023-04-10T00:52:20.071758Z",
     "end_time": "2023-04-10T00:52:20.108680Z"
    }
   }
  },
  {
   "cell_type": "code",
   "execution_count": 32,
   "outputs": [
    {
     "data": {
      "text/plain": "                  culture   min   max\nСпелость                             \nПозднеспелый        Томат  60.0  70.0\nРаннеспелый         Томат  50.0  60.0\nСреднеспелый        Томат  55.0  65.0\nУльтраскороспелый   Томат  45.0  55.0",
      "text/html": "<div>\n<style scoped>\n    .dataframe tbody tr th:only-of-type {\n        vertical-align: middle;\n    }\n\n    .dataframe tbody tr th {\n        vertical-align: top;\n    }\n\n    .dataframe thead th {\n        text-align: right;\n    }\n</style>\n<table border=\"1\" class=\"dataframe\">\n  <thead>\n    <tr style=\"text-align: right;\">\n      <th></th>\n      <th>culture</th>\n      <th>min</th>\n      <th>max</th>\n    </tr>\n    <tr>\n      <th>Спелость</th>\n      <th></th>\n      <th></th>\n      <th></th>\n    </tr>\n  </thead>\n  <tbody>\n    <tr>\n      <th>Позднеспелый</th>\n      <td>Томат</td>\n      <td>60.0</td>\n      <td>70.0</td>\n    </tr>\n    <tr>\n      <th>Раннеспелый</th>\n      <td>Томат</td>\n      <td>50.0</td>\n      <td>60.0</td>\n    </tr>\n    <tr>\n      <th>Среднеспелый</th>\n      <td>Томат</td>\n      <td>55.0</td>\n      <td>65.0</td>\n    </tr>\n    <tr>\n      <th>Ультраскороспелый</th>\n      <td>Томат</td>\n      <td>45.0</td>\n      <td>55.0</td>\n    </tr>\n  </tbody>\n</table>\n</div>"
     },
     "execution_count": 32,
     "metadata": {},
     "output_type": "execute_result"
    }
   ],
   "source": [
    "tomatoes['culture'] = 'Томат'\n",
    "tomatoes['min'] = np.NaN\n",
    "tomatoes['max'] = np.NaN\n",
    "tomatoes.loc[tomatoes.Спелость == 'Раннеспелый', 'min'] = 50\n",
    "tomatoes.loc[tomatoes.Спелость == 'Раннеспелый', 'max'] = 60\n",
    "tomatoes.loc[tomatoes.Спелость == 'Ультраскороспелый', 'min'] = 45\n",
    "tomatoes.loc[tomatoes.Спелость == 'Ультраскороспелый', 'max'] = 55\n",
    "tomatoes.loc[tomatoes.Спелость == 'Среднеспелый', 'min'] = 55\n",
    "tomatoes.loc[tomatoes.Спелость == 'Среднеспелый', 'max'] = 65\n",
    "tomatoes.loc[tomatoes.Спелость == 'Позднеспелый', 'min'] = 60\n",
    "tomatoes.loc[tomatoes.Спелость == 'Позднеспелый', 'max'] = 70\n",
    "tomatoes.groupby('Спелость')[['culture', 'min', 'max']].first().reset_index().to_csv(\n",
    "    os.path.join('..', 'technical_data', 'features_technical'),\n",
    "    columns=['culture', 'Спелость', 'min', 'max'],\n",
    "    index_label='culture'\n",
    ")"
   ],
   "metadata": {
    "collapsed": false,
    "ExecuteTime": {
     "start_time": "2023-04-10T01:06:23.599907Z",
     "end_time": "2023-04-10T01:06:23.638634Z"
    }
   }
  },
  {
   "cell_type": "code",
   "execution_count": 2,
   "outputs": [],
   "source": [],
   "metadata": {
    "collapsed": false,
    "ExecuteTime": {
     "start_time": "2023-04-10T00:18:21.600820Z",
     "end_time": "2023-04-10T00:18:21.662666Z"
    }
   }
  }
 ],
 "metadata": {
  "kernelspec": {
   "display_name": "Python 3",
   "language": "python",
   "name": "python3"
  },
  "language_info": {
   "codemirror_mode": {
    "name": "ipython",
    "version": 2
   },
   "file_extension": ".py",
   "mimetype": "text/x-python",
   "name": "python",
   "nbconvert_exporter": "python",
   "pygments_lexer": "ipython2",
   "version": "2.7.6"
  }
 },
 "nbformat": 4,
 "nbformat_minor": 0
}
